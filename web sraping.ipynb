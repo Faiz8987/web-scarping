{
 "cells": [
  {
   "cell_type": "code",
   "execution_count": 1,
   "id": "be959b42",
   "metadata": {},
   "outputs": [],
   "source": [
    "import requests"
   ]
  },
  {
   "cell_type": "code",
   "execution_count": 2,
   "id": "23f61189",
   "metadata": {},
   "outputs": [],
   "source": [
    "from bs4 import BeautifulSoup"
   ]
  },
  {
   "cell_type": "code",
   "execution_count": 3,
   "id": "778527dc",
   "metadata": {},
   "outputs": [],
   "source": [
    "import sys"
   ]
  },
  {
   "cell_type": "code",
   "execution_count": 4,
   "id": "f97c85f4",
   "metadata": {},
   "outputs": [],
   "source": [
    "url=\"https://www.espncricinfo.com/\""
   ]
  },
  {
   "cell_type": "code",
   "execution_count": 5,
   "id": "a47db610",
   "metadata": {},
   "outputs": [],
   "source": [
    "response=requests.get(url)"
   ]
  },
  {
   "cell_type": "code",
   "execution_count": 6,
   "id": "75ebdf1a",
   "metadata": {},
   "outputs": [
    {
     "data": {
      "text/plain": [
       "<Response [200]>"
      ]
     },
     "execution_count": 6,
     "metadata": {},
     "output_type": "execute_result"
    }
   ],
   "source": [
    "response"
   ]
  },
  {
   "cell_type": "code",
   "execution_count": 11,
   "id": "53f095da",
   "metadata": {},
   "outputs": [],
   "source": [
    "soup=BeautifulSoup(response.text,'html.parser')"
   ]
  },
  {
   "cell_type": "code",
   "execution_count": 21,
   "id": "5befcb2b",
   "metadata": {},
   "outputs": [],
   "source": [
    "dd=soup.find_all('div',attrs={'class':\"ds-p-4\"})"
   ]
  },
  {
   "cell_type": "code",
   "execution_count": 18,
   "id": "a1657ce5",
   "metadata": {},
   "outputs": [
    {
     "name": "stdout",
     "output_type": "stream",
     "text": [
      "Ask a question\n",
      "Today, 9:30 AMSri LankaPakistanMatch starts in   31  mins\n",
      "Live - Drizzle delays toss in Colombo\n",
      "Live Tamil commentaryNaseem out of Asia Cup with shoulder injury\n",
      "The burdens of being Rohit SharmaAt times, it looked like his immense potential might go unfulfilled. He has put those doubts to rest - or has he? By Sidharth Monga\n",
      "Prithvi Shaw to be out of action for at least three monthsIndia batter battling knee injury; will be in a race to be fit in time for Ranji Trophy in January\n",
      "Iyer walks back to claps after productive training sessionIyer, who suffered back spasms earlier this week, was the busiest of five players that turned up for the session\n",
      "Mushfiqur Rahim to miss Bangladesh's game against IndiaHe has been granted leave to be with his wife, who has just delivered their second child\n",
      "RESULTEngland368New Zealand(39/50 ov, T:369) 187England won by 181 runs\n",
      "Stokes makes 182, England win by 181 runsNew Zealand crushed at The Oval after record-breaking innings\n",
      "Stokes: World Cup recall was plan all alongRecord innings reminds batter how much time he has to perform in 50-over cricket\n",
      "Highest scores for England in men's ODIsHighest all-out totals in men's ODIsHighest scores below No.4 in men's ODIs\n",
      "RESULTSussex262 & 344/9dLeicestershire(T:499) 108 & 483Sussex won by 15 runs\n",
      "Unadkat takes six as Sussex revive promotion challengeSpirited Leicestershire fall short despite best efforts of Ackermann, Amin, Scriven and Cox\n",
      "Gill rises to career-best No. 2 among ODI battersZampa enters top five and Kuldeep the top ten for bowlers, while Bavuma has shot up to a career-best No. 11 in the batters' list\n",
      "On This Day: Happy birthday, Aamer Sohail\n",
      "Quote Unquote: who's saying what?\n",
      "Buttler: 'I have lived true to what we're trying to do by being really aggressive'\n",
      "The latest cricket photos\n",
      "A to Z: what has changed since the last time the World Cup was in India\n",
      "Records index: most runs, most wickets, and a lot more\n",
      "How MS Dhoni joined the pantheon of mythical Tamil heroes\n",
      "Rankings: Who's leading in every format\n",
      "The fallout of Scotland's racism scandal\n",
      "Key SeriesAsia Cup 2023World Cup (Warm-up)World Cup 2023India v AustraliaSouth Africa v AustraliaEngland v New ZealandBangladesh v New ZealandPakistan v South Africa (W)England v Sri Lanka (W)CPL 2023County Div1County Div2Women's ChampionshipWorld Test ChampionshipWorld Cup Super LeagueQuick LinksMatchday HindiMute The WorldSafe HandsWorld of MemoriesRavi & RaunakMatchdayHindi VideosICC RankingsHaan Ya NaaESPNcricinfo AppsAndroid AppiOS AppFollow ESPNcricinfoInstagramTwitterFacebookYouTubeESPN SitesThe Cricket MonthlyESPN\n",
      "Terms of Use|Privacy Policy|Interest-Based Ads|Addendum to the Global Privacy Policy|Feedback© 2023 ESPN Sports Media Ltd. All rights reserved\n"
     ]
    }
   ],
   "source": [
    "for i in dd:\n",
    "    print(i.text)"
   ]
  },
  {
   "cell_type": "code",
   "execution_count": 30,
   "id": "8d816b96",
   "metadata": {},
   "outputs": [
    {
     "data": {
      "text/plain": [
       "'RESULTEngland368New Zealand(39/50 ov, T:369) 187England won by 181 runs'"
      ]
     },
     "execution_count": 30,
     "metadata": {},
     "output_type": "execute_result"
    }
   ],
   "source": [
    "dd[8].text"
   ]
  },
  {
   "cell_type": "code",
   "execution_count": 2,
   "id": "82590e3f",
   "metadata": {},
   "outputs": [],
   "source": [
    "#2nd "
   ]
  },
  {
   "cell_type": "code",
   "execution_count": 1,
   "id": "409cb28e",
   "metadata": {},
   "outputs": [],
   "source": [
    "newurl='https://www.webscraper.io/test-sites/e-commerce/allinone/computers/tablets'"
   ]
  },
  {
   "cell_type": "code",
   "execution_count": 3,
   "id": "23d1c47e",
   "metadata": {},
   "outputs": [],
   "source": [
    "import requests"
   ]
  },
  {
   "cell_type": "code",
   "execution_count": 4,
   "id": "e71d4cff",
   "metadata": {},
   "outputs": [],
   "source": [
    "from bs4 import BeautifulSoup"
   ]
  },
  {
   "cell_type": "code",
   "execution_count": 5,
   "id": "93d33c3b",
   "metadata": {},
   "outputs": [],
   "source": [
    "web=requests.get(newurl)"
   ]
  },
  {
   "cell_type": "code",
   "execution_count": 6,
   "id": "6a6acd53",
   "metadata": {},
   "outputs": [],
   "source": [
    "soup2=BeautifulSoup(web.text,\"html.parser\")"
   ]
  },
  {
   "cell_type": "code",
   "execution_count": 14,
   "id": "2e888762",
   "metadata": {},
   "outputs": [],
   "source": [
    "price=soup2.find(\"h4\",attrs={\"class\":\"pull-right price\"})"
   ]
  },
  {
   "cell_type": "code",
   "execution_count": 16,
   "id": "5503a932",
   "metadata": {},
   "outputs": [
    {
     "name": "stdout",
     "output_type": "stream",
     "text": [
      "$69.99\n"
     ]
    }
   ],
   "source": [
    "print(price.text)"
   ]
  },
  {
   "cell_type": "code",
   "execution_count": 25,
   "id": "b49b157d",
   "metadata": {},
   "outputs": [],
   "source": [
    "title=soup2.find(\"a\",attrs={'class':\"title\"})"
   ]
  },
  {
   "cell_type": "code",
   "execution_count": 27,
   "id": "9053e06a",
   "metadata": {},
   "outputs": [
    {
     "data": {
      "text/plain": [
       "'Lenovo IdeaTab'"
      ]
     },
     "execution_count": 27,
     "metadata": {},
     "output_type": "execute_result"
    }
   ],
   "source": [
    "title.text"
   ]
  },
  {
   "cell_type": "code",
   "execution_count": 28,
   "id": "e35b72c9",
   "metadata": {},
   "outputs": [],
   "source": [
    "description=soup2.find(\"p\",attrs={'class':'description'})"
   ]
  },
  {
   "cell_type": "code",
   "execution_count": 29,
   "id": "2e80a965",
   "metadata": {},
   "outputs": [
    {
     "data": {
      "text/plain": [
       "'7\" screen, Android'"
      ]
     },
     "execution_count": 29,
     "metadata": {},
     "output_type": "execute_result"
    }
   ],
   "source": [
    "description.text"
   ]
  },
  {
   "cell_type": "code",
   "execution_count": 30,
   "id": "70c23f1a",
   "metadata": {},
   "outputs": [],
   "source": [
    "full=soup2.find('div',attrs={\"class\":\"col-sm-4 col-lg-4 col-md-4\"})"
   ]
  },
  {
   "cell_type": "code",
   "execution_count": 33,
   "id": "3d2fba0d",
   "metadata": {},
   "outputs": [
    {
     "data": {
      "text/plain": [
       "'\\n\\n\\n\\n$69.99\\n\\nLenovo IdeaTab\\n\\n7\" screen, Android\\n\\n\\n7 reviews\\n\\n\\n\\n\\n\\n\\n\\n'"
      ]
     },
     "execution_count": 33,
     "metadata": {},
     "output_type": "execute_result"
    }
   ],
   "source": [
    "full.text"
   ]
  },
  {
   "cell_type": "code",
   "execution_count": 34,
   "id": "a0fcbee5",
   "metadata": {},
   "outputs": [
    {
     "name": "stdout",
     "output_type": "stream",
     "text": [
      "\n",
      "\n",
      "\n",
      "\n",
      "\n",
      "$69.99\n",
      "\n",
      "Lenovo IdeaTab\n",
      "\n",
      "7\" screen, Android\n",
      "\n",
      "\n",
      "7 reviews\n",
      "\n",
      "\n",
      "\n",
      "\n",
      "\n",
      "\n",
      "\n",
      "\n",
      "\n"
     ]
    }
   ],
   "source": [
    "for i in full:\n",
    "    print(i.text)"
   ]
  },
  {
   "cell_type": "code",
   "execution_count": null,
   "id": "0a841b3c",
   "metadata": {},
   "outputs": [],
   "source": []
  },
  {
   "cell_type": "code",
   "execution_count": null,
   "id": "b97799ae",
   "metadata": {},
   "outputs": [],
   "source": []
  }
 ],
 "metadata": {
  "kernelspec": {
   "display_name": "Python 3 (ipykernel)",
   "language": "python",
   "name": "python3"
  },
  "language_info": {
   "codemirror_mode": {
    "name": "ipython",
    "version": 3
   },
   "file_extension": ".py",
   "mimetype": "text/x-python",
   "name": "python",
   "nbconvert_exporter": "python",
   "pygments_lexer": "ipython3",
   "version": "3.9.13"
  }
 },
 "nbformat": 4,
 "nbformat_minor": 5
}
